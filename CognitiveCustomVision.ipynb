{
 "cells": [
  {
   "cell_type": "code",
   "execution_count": 3,
   "id": "7becbfae",
   "metadata": {},
   "outputs": [
    {
     "name": "stderr",
     "output_type": "stream",
     "text": [
      "ERROR: pip's dependency resolver does not currently take into account all the packages that are installed. This behaviour is the source of the following dependency conflicts.\n",
      "pandas-profiling 3.2.0 requires markupsafe~=2.1.1, but you have markupsafe 2.0.1 which is incompatible.\n",
      "aws-sam-cli 1.50.0 requires typing-extensions==3.10.0.0, but you have typing-extensions 4.5.0 which is incompatible.\n"
     ]
    },
    {
     "name": "stdout",
     "output_type": "stream",
     "text": [
      "Collecting azure-cognitiveservices-vision-customvision\n",
      "  Downloading azure_cognitiveservices_vision_customvision-3.1.0-py2.py3-none-any.whl (62 kB)\n",
      "Collecting msrest>=0.5.0\n",
      "  Downloading msrest-0.7.1-py3-none-any.whl (85 kB)\n",
      "Collecting azure-common~=1.1\n",
      "  Downloading azure_common-1.1.28-py2.py3-none-any.whl (14 kB)\n",
      "Requirement already satisfied: requests~=2.16 in c:\\users\\gg787\\appdata\\roaming\\python\\python39\\site-packages (from msrest>=0.5.0->azure-cognitiveservices-vision-customvision) (2.25.1)\n",
      "Collecting requests-oauthlib>=0.5.0\n",
      "  Downloading requests_oauthlib-1.3.1-py2.py3-none-any.whl (23 kB)\n",
      "Requirement already satisfied: certifi>=2017.4.17 in c:\\users\\gg787\\anaconda3\\lib\\site-packages (from msrest>=0.5.0->azure-cognitiveservices-vision-customvision) (2021.10.8)\n",
      "Collecting isodate>=0.6.0\n",
      "  Downloading isodate-0.6.1-py2.py3-none-any.whl (41 kB)\n",
      "Collecting azure-core>=1.24.0\n",
      "  Downloading azure_core-1.26.4-py3-none-any.whl (173 kB)\n",
      "Requirement already satisfied: six>=1.11.0 in c:\\users\\gg787\\anaconda3\\lib\\site-packages (from azure-core>=1.24.0->msrest>=0.5.0->azure-cognitiveservices-vision-customvision) (1.16.0)\n",
      "Collecting typing-extensions>=4.3.0\n",
      "  Downloading typing_extensions-4.5.0-py3-none-any.whl (27 kB)\n",
      "Requirement already satisfied: idna<3,>=2.5 in c:\\users\\gg787\\appdata\\roaming\\python\\python39\\site-packages (from requests~=2.16->msrest>=0.5.0->azure-cognitiveservices-vision-customvision) (2.10)\n",
      "Requirement already satisfied: urllib3<1.27,>=1.21.1 in c:\\users\\gg787\\anaconda3\\lib\\site-packages (from requests~=2.16->msrest>=0.5.0->azure-cognitiveservices-vision-customvision) (1.26.9)\n",
      "Requirement already satisfied: chardet<5,>=3.0.2 in c:\\users\\gg787\\anaconda3\\lib\\site-packages (from requests~=2.16->msrest>=0.5.0->azure-cognitiveservices-vision-customvision) (4.0.0)\n",
      "Collecting oauthlib>=3.0.0\n",
      "  Downloading oauthlib-3.2.2-py3-none-any.whl (151 kB)\n",
      "Installing collected packages: typing-extensions, oauthlib, requests-oauthlib, isodate, azure-core, msrest, azure-common, azure-cognitiveservices-vision-customvision\n",
      "  Attempting uninstall: typing-extensions\n",
      "    Found existing installation: typing-extensions 3.10.0.0\n",
      "    Uninstalling typing-extensions-3.10.0.0:\n",
      "      Successfully uninstalled typing-extensions-3.10.0.0\n",
      "Successfully installed azure-cognitiveservices-vision-customvision-3.1.0 azure-common-1.1.28 azure-core-1.26.4 isodate-0.6.1 msrest-0.7.1 oauthlib-3.2.2 requests-oauthlib-1.3.1 typing-extensions-4.5.0\n"
     ]
    }
   ],
   "source": [
    "# !pip install azure-cognitiveservices-vision-customvision"
   ]
  },
  {
   "cell_type": "code",
   "execution_count": 16,
   "id": "189a8378",
   "metadata": {},
   "outputs": [],
   "source": [
    "from azure.cognitiveservices.vision.customvision.training import CustomVisionTrainingClient\n",
    "from azure.cognitiveservices.vision.customvision.training.models import ImageFileCreateEntry\n",
    "from msrest.authentication import ApiKeyCredentials"
   ]
  },
  {
   "cell_type": "code",
   "execution_count": 17,
   "id": "ee298d09",
   "metadata": {},
   "outputs": [],
   "source": [
    "endpoint = \"https://labuser7customvision7.cognitiveservices.azure.com/\"\n",
    "training_key = \"3b3e5544145840c890db1b8ff3438cc2\" "
   ]
  },
  {
   "cell_type": "code",
   "execution_count": 18,
   "id": "d0bddd80",
   "metadata": {},
   "outputs": [],
   "source": [
    "publish_iteration_name = \"GreatWallModel_7\"\n",
    "credentials = ApiKeyCredentials(in_headers = {\"Training-key\":training_key})"
   ]
  },
  {
   "cell_type": "code",
   "execution_count": 19,
   "id": "8fbc7e37",
   "metadata": {},
   "outputs": [],
   "source": [
    "trainer = CustomVisionTrainingClient(endpoint,credentials)"
   ]
  },
  {
   "cell_type": "code",
   "execution_count": 21,
   "id": "43b79401",
   "metadata": {},
   "outputs": [
    {
     "name": "stdout",
     "output_type": "stream",
     "text": [
      "Creating project...\n"
     ]
    }
   ],
   "source": [
    "# Create a new project\n",
    "\n",
    "print(\"Creating project...\")\n",
    "project_name = \"GreatWallModel_7\"\n",
    "project = trainer.create_project(project_name)"
   ]
  },
  {
   "cell_type": "code",
   "execution_count": 22,
   "id": "b3bd336e",
   "metadata": {},
   "outputs": [],
   "source": [
    "jajangmyeong_tag = trainer.create_tag(project.id,\"jajangmyeong\")\n",
    "jjamppong_tag = trainer.create_tag(project.id,\"jjamppong\")\n",
    "tangsuyunk_tag = trainer.create_tag(project.id,\"tangsuyunk\")"
   ]
  },
  {
   "cell_type": "code",
   "execution_count": 23,
   "id": "f4ed1a9b",
   "metadata": {
    "scrolled": true
   },
   "outputs": [
    {
     "name": "stdout",
     "output_type": "stream",
     "text": [
      "Training....\n",
      "Training stats:Training\n",
      "Waitting 10 Seconds...\n",
      "Training stats:Training\n",
      "Waitting 10 Seconds...\n",
      "Training stats:Training\n",
      "Waitting 10 Seconds...\n",
      "Training stats:Training\n",
      "Waitting 10 Seconds...\n",
      "Training stats:Training\n",
      "Waitting 10 Seconds...\n",
      "Training stats:Training\n",
      "Waitting 10 Seconds...\n",
      "Training stats:Training\n",
      "Waitting 10 Seconds...\n",
      "Training stats:Training\n",
      "Waitting 10 Seconds...\n",
      "Training stats:Training\n",
      "Waitting 10 Seconds...\n",
      "Training stats:Training\n",
      "Waitting 10 Seconds...\n",
      "Training stats:Training\n",
      "Waitting 10 Seconds...\n",
      "Training stats:Training\n",
      "Waitting 10 Seconds...\n",
      "Training stats:Training\n",
      "Waitting 10 Seconds...\n",
      "Training stats:Training\n",
      "Waitting 10 Seconds...\n",
      "Training stats:Training\n",
      "Waitting 10 Seconds...\n",
      "Training stats:Training\n",
      "Waitting 10 Seconds...\n",
      "Training stats:Training\n",
      "Waitting 10 Seconds...\n",
      "Training stats:Training\n",
      "Waitting 10 Seconds...\n",
      "Training stats:Training\n",
      "Waitting 10 Seconds...\n",
      "Training stats:Training\n",
      "Waitting 10 Seconds...\n",
      "Training stats:Training\n",
      "Waitting 10 Seconds...\n",
      "Training stats:Training\n",
      "Waitting 10 Seconds...\n",
      "Training stats:Training\n",
      "Waitting 10 Seconds...\n",
      "Training stats:Training\n",
      "Waitting 10 Seconds...\n",
      "Training stats:Training\n",
      "Waitting 10 Seconds...\n",
      "Training stats:Completed\n",
      "Waitting 10 Seconds...\n"
     ]
    }
   ],
   "source": [
    "#학습시작\n",
    "import time\n",
    "\n",
    "print(\"Training....\")\n",
    "\n",
    "iteration = trainer.train_project(project.id)\n",
    "\n",
    "while (iteration.status) != \"Completed\":\n",
    "    iteration = trainer.get_iteration(project.id, iteration.id)\n",
    "    print(\"Training stats:\" + iteration.status)\n",
    "    print(\"Waitting 10 Seconds...\")\n",
    "    time.sleep(10)"
   ]
  },
  {
   "cell_type": "code",
   "execution_count": 32,
   "id": "0b885def",
   "metadata": {},
   "outputs": [],
   "source": [
    "#예측, 추론\n",
    "from azure.cognitiveservices.vision.customvision.prediction import CustomVisionPredictionClient"
   ]
  },
  {
   "cell_type": "code",
   "execution_count": 33,
   "id": "6c62ae46",
   "metadata": {},
   "outputs": [],
   "source": [
    "prediction_key = \"ed284a88ca6f4bd394f613d2172f9d4d\"\n",
    "prediction_endpoint = \"https://labuser7customvision7-prediction.cognitiveservices.azure.com/\""
   ]
  },
  {
   "cell_type": "code",
   "execution_count": 34,
   "id": "1cb0dac2",
   "metadata": {},
   "outputs": [],
   "source": [
    "prediction_credential = ApiKeyCredentials(in_headers = {\"Prediction-key\":prediction_key})"
   ]
  },
  {
   "cell_type": "code",
   "execution_count": 38,
   "id": "08177c53",
   "metadata": {},
   "outputs": [],
   "source": [
    "# 예측 리소스 생성\n",
    "\n",
    "predictor = CustomVisionPredictionClient(prediction_endpoint, prediction_credential)"
   ]
  },
  {
   "cell_type": "code",
   "execution_count": 44,
   "id": "607344c2",
   "metadata": {},
   "outputs": [],
   "source": [
    "target_image_url = \"https://encrypted-tbn0.gstatic.com/images?q=tbn:ANd9GcSuqCAu5Og2vgc63N_Dcm_imVzJSzpS_fovrg&usqp=CAU\"\n",
    "result = predictor.classify_image_url(project.id,\n",
    "                             \"Iteration1\",\n",
    "                             target_image_url)\n"
   ]
  },
  {
   "cell_type": "code",
   "execution_count": 46,
   "id": "aa1f4ba5",
   "metadata": {},
   "outputs": [
    {
     "name": "stdout",
     "output_type": "stream",
     "text": [
      "\tjajangmyeong: 99.71%\n",
      "\tjjamppong: 0.93%\n",
      "\ttangsuyunk: 0.03%\n"
     ]
    }
   ],
   "source": [
    "for prediction in result.predictions:\n",
    "    print(\"\\t\" + prediction.tag_name + \": {0:.2f}%\".format(prediction.probability*100))"
   ]
  }
 ],
 "metadata": {
  "kernelspec": {
   "display_name": "Python 3 (ipykernel)",
   "language": "python",
   "name": "python3"
  },
  "language_info": {
   "codemirror_mode": {
    "name": "ipython",
    "version": 3
   },
   "file_extension": ".py",
   "mimetype": "text/x-python",
   "name": "python",
   "nbconvert_exporter": "python",
   "pygments_lexer": "ipython3",
   "version": "3.9.12"
  }
 },
 "nbformat": 4,
 "nbformat_minor": 5
}
